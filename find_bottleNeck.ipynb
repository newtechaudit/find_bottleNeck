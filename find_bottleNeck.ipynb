{
  "nbformat": 4,
  "nbformat_minor": 0,
  "metadata": {
    "colab": {
      "name": "find_bottleNeck.ipynb",
      "provenance": [],
      "collapsed_sections": []
    },
    "kernelspec": {
      "name": "python3",
      "display_name": "Python 3"
    },
    "language_info": {
      "name": "python"
    },
    "widgets": {
      "application/vnd.jupyter.widget-state+json": {
        "3ef812ec4cfb40308572411f1d04bda9": {
          "model_module": "@jupyter-widgets/controls",
          "model_name": "HBoxModel",
          "model_module_version": "1.5.0",
          "state": {
            "_view_name": "HBoxView",
            "_dom_classes": [],
            "_model_name": "HBoxModel",
            "_view_module": "@jupyter-widgets/controls",
            "_model_module_version": "1.5.0",
            "_view_count": null,
            "_view_module_version": "1.5.0",
            "box_style": "",
            "layout": "IPY_MODEL_d3ea1f98fd574b2886eb9fe58a08b6a9",
            "_model_module": "@jupyter-widgets/controls",
            "children": [
              "IPY_MODEL_7001b952b08145eda6a5efb25465d4af",
              "IPY_MODEL_50e87b41384e47a0a20bd57df4715fbe",
              "IPY_MODEL_e5b10275c4254600b123a233d8b92d92"
            ]
          }
        },
        "d3ea1f98fd574b2886eb9fe58a08b6a9": {
          "model_module": "@jupyter-widgets/base",
          "model_name": "LayoutModel",
          "model_module_version": "1.2.0",
          "state": {
            "_view_name": "LayoutView",
            "grid_template_rows": null,
            "right": null,
            "justify_content": null,
            "_view_module": "@jupyter-widgets/base",
            "overflow": null,
            "_model_module_version": "1.2.0",
            "_view_count": null,
            "flex_flow": null,
            "width": null,
            "min_width": null,
            "border": null,
            "align_items": null,
            "bottom": null,
            "_model_module": "@jupyter-widgets/base",
            "top": null,
            "grid_column": null,
            "overflow_y": null,
            "overflow_x": null,
            "grid_auto_flow": null,
            "grid_area": null,
            "grid_template_columns": null,
            "flex": null,
            "_model_name": "LayoutModel",
            "justify_items": null,
            "grid_row": null,
            "max_height": null,
            "align_content": null,
            "visibility": null,
            "align_self": null,
            "height": null,
            "min_height": null,
            "padding": null,
            "grid_auto_rows": null,
            "grid_gap": null,
            "max_width": null,
            "order": null,
            "_view_module_version": "1.2.0",
            "grid_template_areas": null,
            "object_position": null,
            "object_fit": null,
            "grid_auto_columns": null,
            "margin": null,
            "display": null,
            "left": null
          }
        },
        "7001b952b08145eda6a5efb25465d4af": {
          "model_module": "@jupyter-widgets/controls",
          "model_name": "HTMLModel",
          "model_module_version": "1.5.0",
          "state": {
            "_view_name": "HTMLView",
            "style": "IPY_MODEL_9940b3e7c2db4c2382c4046c275a63f2",
            "_dom_classes": [],
            "description": "",
            "_model_name": "HTMLModel",
            "placeholder": "​",
            "_view_module": "@jupyter-widgets/controls",
            "_model_module_version": "1.5.0",
            "value": "parsing log, completed traces :: 100%",
            "_view_count": null,
            "_view_module_version": "1.5.0",
            "description_tooltip": null,
            "_model_module": "@jupyter-widgets/controls",
            "layout": "IPY_MODEL_8d359e93ccf6441f97e879b5aabdb4c2"
          }
        },
        "50e87b41384e47a0a20bd57df4715fbe": {
          "model_module": "@jupyter-widgets/controls",
          "model_name": "FloatProgressModel",
          "model_module_version": "1.5.0",
          "state": {
            "_view_name": "ProgressView",
            "style": "IPY_MODEL_d00462684fd84fbeaf8315aadbac40a0",
            "_dom_classes": [],
            "description": "",
            "_model_name": "FloatProgressModel",
            "bar_style": "success",
            "max": 10500,
            "_view_module": "@jupyter-widgets/controls",
            "_model_module_version": "1.5.0",
            "value": 10500,
            "_view_count": null,
            "_view_module_version": "1.5.0",
            "orientation": "horizontal",
            "min": 0,
            "description_tooltip": null,
            "_model_module": "@jupyter-widgets/controls",
            "layout": "IPY_MODEL_d0106b4ab8ed43ae8d39764bb1bc0b4f"
          }
        },
        "e5b10275c4254600b123a233d8b92d92": {
          "model_module": "@jupyter-widgets/controls",
          "model_name": "HTMLModel",
          "model_module_version": "1.5.0",
          "state": {
            "_view_name": "HTMLView",
            "style": "IPY_MODEL_0741c93430434c9b8c869e409e542196",
            "_dom_classes": [],
            "description": "",
            "_model_name": "HTMLModel",
            "placeholder": "​",
            "_view_module": "@jupyter-widgets/controls",
            "_model_module_version": "1.5.0",
            "value": " 10500/10500 [00:03&lt;00:00, 3034.83it/s]",
            "_view_count": null,
            "_view_module_version": "1.5.0",
            "description_tooltip": null,
            "_model_module": "@jupyter-widgets/controls",
            "layout": "IPY_MODEL_10764bbd388f4d1fb7d1297c1e77c52f"
          }
        },
        "9940b3e7c2db4c2382c4046c275a63f2": {
          "model_module": "@jupyter-widgets/controls",
          "model_name": "DescriptionStyleModel",
          "model_module_version": "1.5.0",
          "state": {
            "_view_name": "StyleView",
            "_model_name": "DescriptionStyleModel",
            "description_width": "",
            "_view_module": "@jupyter-widgets/base",
            "_model_module_version": "1.5.0",
            "_view_count": null,
            "_view_module_version": "1.2.0",
            "_model_module": "@jupyter-widgets/controls"
          }
        },
        "8d359e93ccf6441f97e879b5aabdb4c2": {
          "model_module": "@jupyter-widgets/base",
          "model_name": "LayoutModel",
          "model_module_version": "1.2.0",
          "state": {
            "_view_name": "LayoutView",
            "grid_template_rows": null,
            "right": null,
            "justify_content": null,
            "_view_module": "@jupyter-widgets/base",
            "overflow": null,
            "_model_module_version": "1.2.0",
            "_view_count": null,
            "flex_flow": null,
            "width": null,
            "min_width": null,
            "border": null,
            "align_items": null,
            "bottom": null,
            "_model_module": "@jupyter-widgets/base",
            "top": null,
            "grid_column": null,
            "overflow_y": null,
            "overflow_x": null,
            "grid_auto_flow": null,
            "grid_area": null,
            "grid_template_columns": null,
            "flex": null,
            "_model_name": "LayoutModel",
            "justify_items": null,
            "grid_row": null,
            "max_height": null,
            "align_content": null,
            "visibility": null,
            "align_self": null,
            "height": null,
            "min_height": null,
            "padding": null,
            "grid_auto_rows": null,
            "grid_gap": null,
            "max_width": null,
            "order": null,
            "_view_module_version": "1.2.0",
            "grid_template_areas": null,
            "object_position": null,
            "object_fit": null,
            "grid_auto_columns": null,
            "margin": null,
            "display": null,
            "left": null
          }
        },
        "d00462684fd84fbeaf8315aadbac40a0": {
          "model_module": "@jupyter-widgets/controls",
          "model_name": "ProgressStyleModel",
          "model_module_version": "1.5.0",
          "state": {
            "_view_name": "StyleView",
            "_model_name": "ProgressStyleModel",
            "description_width": "",
            "_view_module": "@jupyter-widgets/base",
            "_model_module_version": "1.5.0",
            "_view_count": null,
            "_view_module_version": "1.2.0",
            "bar_color": null,
            "_model_module": "@jupyter-widgets/controls"
          }
        },
        "d0106b4ab8ed43ae8d39764bb1bc0b4f": {
          "model_module": "@jupyter-widgets/base",
          "model_name": "LayoutModel",
          "model_module_version": "1.2.0",
          "state": {
            "_view_name": "LayoutView",
            "grid_template_rows": null,
            "right": null,
            "justify_content": null,
            "_view_module": "@jupyter-widgets/base",
            "overflow": null,
            "_model_module_version": "1.2.0",
            "_view_count": null,
            "flex_flow": null,
            "width": null,
            "min_width": null,
            "border": null,
            "align_items": null,
            "bottom": null,
            "_model_module": "@jupyter-widgets/base",
            "top": null,
            "grid_column": null,
            "overflow_y": null,
            "overflow_x": null,
            "grid_auto_flow": null,
            "grid_area": null,
            "grid_template_columns": null,
            "flex": null,
            "_model_name": "LayoutModel",
            "justify_items": null,
            "grid_row": null,
            "max_height": null,
            "align_content": null,
            "visibility": null,
            "align_self": null,
            "height": null,
            "min_height": null,
            "padding": null,
            "grid_auto_rows": null,
            "grid_gap": null,
            "max_width": null,
            "order": null,
            "_view_module_version": "1.2.0",
            "grid_template_areas": null,
            "object_position": null,
            "object_fit": null,
            "grid_auto_columns": null,
            "margin": null,
            "display": null,
            "left": null
          }
        },
        "0741c93430434c9b8c869e409e542196": {
          "model_module": "@jupyter-widgets/controls",
          "model_name": "DescriptionStyleModel",
          "model_module_version": "1.5.0",
          "state": {
            "_view_name": "StyleView",
            "_model_name": "DescriptionStyleModel",
            "description_width": "",
            "_view_module": "@jupyter-widgets/base",
            "_model_module_version": "1.5.0",
            "_view_count": null,
            "_view_module_version": "1.2.0",
            "_model_module": "@jupyter-widgets/controls"
          }
        },
        "10764bbd388f4d1fb7d1297c1e77c52f": {
          "model_module": "@jupyter-widgets/base",
          "model_name": "LayoutModel",
          "model_module_version": "1.2.0",
          "state": {
            "_view_name": "LayoutView",
            "grid_template_rows": null,
            "right": null,
            "justify_content": null,
            "_view_module": "@jupyter-widgets/base",
            "overflow": null,
            "_model_module_version": "1.2.0",
            "_view_count": null,
            "flex_flow": null,
            "width": null,
            "min_width": null,
            "border": null,
            "align_items": null,
            "bottom": null,
            "_model_module": "@jupyter-widgets/base",
            "top": null,
            "grid_column": null,
            "overflow_y": null,
            "overflow_x": null,
            "grid_auto_flow": null,
            "grid_area": null,
            "grid_template_columns": null,
            "flex": null,
            "_model_name": "LayoutModel",
            "justify_items": null,
            "grid_row": null,
            "max_height": null,
            "align_content": null,
            "visibility": null,
            "align_self": null,
            "height": null,
            "min_height": null,
            "padding": null,
            "grid_auto_rows": null,
            "grid_gap": null,
            "max_width": null,
            "order": null,
            "_view_module_version": "1.2.0",
            "grid_template_areas": null,
            "object_position": null,
            "object_fit": null,
            "grid_auto_columns": null,
            "margin": null,
            "display": null,
            "left": null
          }
        }
      }
    }
  },
  "cells": [
    {
      "cell_type": "code",
      "metadata": {
        "colab": {
          "base_uri": "https://localhost:8080/"
        },
        "id": "tg98j-MrkbbI",
        "outputId": "e4076d8c-e183-472a-d4df-a60ee8d9a9a0"
      },
      "source": [
        "!pip install pm4py "
      ],
      "execution_count": 1,
      "outputs": [
        {
          "output_type": "stream",
          "text": [
            "Collecting pm4py\n",
            "  Downloading pm4py-2.2.12-py3-none-any.whl (1.5 MB)\n",
            "\u001b[?25l\r\u001b[K     |▏                               | 10 kB 21.7 MB/s eta 0:00:01\r\u001b[K     |▍                               | 20 kB 27.7 MB/s eta 0:00:01\r\u001b[K     |▋                               | 30 kB 12.5 MB/s eta 0:00:01\r\u001b[K     |▉                               | 40 kB 9.7 MB/s eta 0:00:01\r\u001b[K     |█                               | 51 kB 5.4 MB/s eta 0:00:01\r\u001b[K     |█▎                              | 61 kB 5.9 MB/s eta 0:00:01\r\u001b[K     |█▌                              | 71 kB 5.6 MB/s eta 0:00:01\r\u001b[K     |█▊                              | 81 kB 6.3 MB/s eta 0:00:01\r\u001b[K     |██                              | 92 kB 4.9 MB/s eta 0:00:01\r\u001b[K     |██▏                             | 102 kB 5.2 MB/s eta 0:00:01\r\u001b[K     |██▍                             | 112 kB 5.2 MB/s eta 0:00:01\r\u001b[K     |██▋                             | 122 kB 5.2 MB/s eta 0:00:01\r\u001b[K     |██▉                             | 133 kB 5.2 MB/s eta 0:00:01\r\u001b[K     |███                             | 143 kB 5.2 MB/s eta 0:00:01\r\u001b[K     |███▎                            | 153 kB 5.2 MB/s eta 0:00:01\r\u001b[K     |███▌                            | 163 kB 5.2 MB/s eta 0:00:01\r\u001b[K     |███▊                            | 174 kB 5.2 MB/s eta 0:00:01\r\u001b[K     |████                            | 184 kB 5.2 MB/s eta 0:00:01\r\u001b[K     |████▏                           | 194 kB 5.2 MB/s eta 0:00:01\r\u001b[K     |████▍                           | 204 kB 5.2 MB/s eta 0:00:01\r\u001b[K     |████▋                           | 215 kB 5.2 MB/s eta 0:00:01\r\u001b[K     |████▉                           | 225 kB 5.2 MB/s eta 0:00:01\r\u001b[K     |█████                           | 235 kB 5.2 MB/s eta 0:00:01\r\u001b[K     |█████▎                          | 245 kB 5.2 MB/s eta 0:00:01\r\u001b[K     |█████▌                          | 256 kB 5.2 MB/s eta 0:00:01\r\u001b[K     |█████▊                          | 266 kB 5.2 MB/s eta 0:00:01\r\u001b[K     |██████                          | 276 kB 5.2 MB/s eta 0:00:01\r\u001b[K     |██████▏                         | 286 kB 5.2 MB/s eta 0:00:01\r\u001b[K     |██████▍                         | 296 kB 5.2 MB/s eta 0:00:01\r\u001b[K     |██████▋                         | 307 kB 5.2 MB/s eta 0:00:01\r\u001b[K     |██████▉                         | 317 kB 5.2 MB/s eta 0:00:01\r\u001b[K     |███████                         | 327 kB 5.2 MB/s eta 0:00:01\r\u001b[K     |███████▎                        | 337 kB 5.2 MB/s eta 0:00:01\r\u001b[K     |███████▌                        | 348 kB 5.2 MB/s eta 0:00:01\r\u001b[K     |███████▊                        | 358 kB 5.2 MB/s eta 0:00:01\r\u001b[K     |████████                        | 368 kB 5.2 MB/s eta 0:00:01\r\u001b[K     |████████▏                       | 378 kB 5.2 MB/s eta 0:00:01\r\u001b[K     |████████▍                       | 389 kB 5.2 MB/s eta 0:00:01\r\u001b[K     |████████▌                       | 399 kB 5.2 MB/s eta 0:00:01\r\u001b[K     |████████▊                       | 409 kB 5.2 MB/s eta 0:00:01\r\u001b[K     |█████████                       | 419 kB 5.2 MB/s eta 0:00:01\r\u001b[K     |█████████▏                      | 430 kB 5.2 MB/s eta 0:00:01\r\u001b[K     |█████████▍                      | 440 kB 5.2 MB/s eta 0:00:01\r\u001b[K     |█████████▋                      | 450 kB 5.2 MB/s eta 0:00:01\r\u001b[K     |█████████▉                      | 460 kB 5.2 MB/s eta 0:00:01\r\u001b[K     |██████████                      | 471 kB 5.2 MB/s eta 0:00:01\r\u001b[K     |██████████▎                     | 481 kB 5.2 MB/s eta 0:00:01\r\u001b[K     |██████████▌                     | 491 kB 5.2 MB/s eta 0:00:01\r\u001b[K     |██████████▊                     | 501 kB 5.2 MB/s eta 0:00:01\r\u001b[K     |███████████                     | 512 kB 5.2 MB/s eta 0:00:01\r\u001b[K     |███████████▏                    | 522 kB 5.2 MB/s eta 0:00:01\r\u001b[K     |███████████▍                    | 532 kB 5.2 MB/s eta 0:00:01\r\u001b[K     |███████████▋                    | 542 kB 5.2 MB/s eta 0:00:01\r\u001b[K     |███████████▉                    | 552 kB 5.2 MB/s eta 0:00:01\r\u001b[K     |████████████                    | 563 kB 5.2 MB/s eta 0:00:01\r\u001b[K     |████████████▎                   | 573 kB 5.2 MB/s eta 0:00:01\r\u001b[K     |████████████▌                   | 583 kB 5.2 MB/s eta 0:00:01\r\u001b[K     |████████████▊                   | 593 kB 5.2 MB/s eta 0:00:01\r\u001b[K     |█████████████                   | 604 kB 5.2 MB/s eta 0:00:01\r\u001b[K     |█████████████▏                  | 614 kB 5.2 MB/s eta 0:00:01\r\u001b[K     |█████████████▍                  | 624 kB 5.2 MB/s eta 0:00:01\r\u001b[K     |█████████████▋                  | 634 kB 5.2 MB/s eta 0:00:01\r\u001b[K     |█████████████▉                  | 645 kB 5.2 MB/s eta 0:00:01\r\u001b[K     |██████████████                  | 655 kB 5.2 MB/s eta 0:00:01\r\u001b[K     |██████████████▎                 | 665 kB 5.2 MB/s eta 0:00:01\r\u001b[K     |██████████████▌                 | 675 kB 5.2 MB/s eta 0:00:01\r\u001b[K     |██████████████▊                 | 686 kB 5.2 MB/s eta 0:00:01\r\u001b[K     |███████████████                 | 696 kB 5.2 MB/s eta 0:00:01\r\u001b[K     |███████████████▏                | 706 kB 5.2 MB/s eta 0:00:01\r\u001b[K     |███████████████▍                | 716 kB 5.2 MB/s eta 0:00:01\r\u001b[K     |███████████████▋                | 727 kB 5.2 MB/s eta 0:00:01\r\u001b[K     |███████████████▉                | 737 kB 5.2 MB/s eta 0:00:01\r\u001b[K     |████████████████                | 747 kB 5.2 MB/s eta 0:00:01\r\u001b[K     |████████████████▎               | 757 kB 5.2 MB/s eta 0:00:01\r\u001b[K     |████████████████▌               | 768 kB 5.2 MB/s eta 0:00:01\r\u001b[K     |████████████████▊               | 778 kB 5.2 MB/s eta 0:00:01\r\u001b[K     |█████████████████               | 788 kB 5.2 MB/s eta 0:00:01\r\u001b[K     |█████████████████               | 798 kB 5.2 MB/s eta 0:00:01\r\u001b[K     |█████████████████▎              | 808 kB 5.2 MB/s eta 0:00:01\r\u001b[K     |█████████████████▌              | 819 kB 5.2 MB/s eta 0:00:01\r\u001b[K     |█████████████████▊              | 829 kB 5.2 MB/s eta 0:00:01\r\u001b[K     |██████████████████              | 839 kB 5.2 MB/s eta 0:00:01\r\u001b[K     |██████████████████▏             | 849 kB 5.2 MB/s eta 0:00:01\r\u001b[K     |██████████████████▍             | 860 kB 5.2 MB/s eta 0:00:01\r\u001b[K     |██████████████████▋             | 870 kB 5.2 MB/s eta 0:00:01\r\u001b[K     |██████████████████▉             | 880 kB 5.2 MB/s eta 0:00:01\r\u001b[K     |███████████████████             | 890 kB 5.2 MB/s eta 0:00:01\r\u001b[K     |███████████████████▎            | 901 kB 5.2 MB/s eta 0:00:01\r\u001b[K     |███████████████████▌            | 911 kB 5.2 MB/s eta 0:00:01\r\u001b[K     |███████████████████▊            | 921 kB 5.2 MB/s eta 0:00:01\r\u001b[K     |████████████████████            | 931 kB 5.2 MB/s eta 0:00:01\r\u001b[K     |████████████████████▏           | 942 kB 5.2 MB/s eta 0:00:01\r\u001b[K     |████████████████████▍           | 952 kB 5.2 MB/s eta 0:00:01\r\u001b[K     |████████████████████▋           | 962 kB 5.2 MB/s eta 0:00:01\r\u001b[K     |████████████████████▉           | 972 kB 5.2 MB/s eta 0:00:01\r\u001b[K     |█████████████████████           | 983 kB 5.2 MB/s eta 0:00:01\r\u001b[K     |█████████████████████▎          | 993 kB 5.2 MB/s eta 0:00:01\r\u001b[K     |█████████████████████▌          | 1.0 MB 5.2 MB/s eta 0:00:01\r\u001b[K     |█████████████████████▊          | 1.0 MB 5.2 MB/s eta 0:00:01\r\u001b[K     |██████████████████████          | 1.0 MB 5.2 MB/s eta 0:00:01\r\u001b[K     |██████████████████████▏         | 1.0 MB 5.2 MB/s eta 0:00:01\r\u001b[K     |██████████████████████▍         | 1.0 MB 5.2 MB/s eta 0:00:01\r\u001b[K     |██████████████████████▋         | 1.1 MB 5.2 MB/s eta 0:00:01\r\u001b[K     |██████████████████████▉         | 1.1 MB 5.2 MB/s eta 0:00:01\r\u001b[K     |███████████████████████         | 1.1 MB 5.2 MB/s eta 0:00:01\r\u001b[K     |███████████████████████▎        | 1.1 MB 5.2 MB/s eta 0:00:01\r\u001b[K     |███████████████████████▌        | 1.1 MB 5.2 MB/s eta 0:00:01\r\u001b[K     |███████████████████████▊        | 1.1 MB 5.2 MB/s eta 0:00:01\r\u001b[K     |████████████████████████        | 1.1 MB 5.2 MB/s eta 0:00:01\r\u001b[K     |████████████████████████▏       | 1.1 MB 5.2 MB/s eta 0:00:01\r\u001b[K     |████████████████████████▍       | 1.1 MB 5.2 MB/s eta 0:00:01\r\u001b[K     |████████████████████████▋       | 1.1 MB 5.2 MB/s eta 0:00:01\r\u001b[K     |████████████████████████▉       | 1.2 MB 5.2 MB/s eta 0:00:01\r\u001b[K     |█████████████████████████       | 1.2 MB 5.2 MB/s eta 0:00:01\r\u001b[K     |█████████████████████████▎      | 1.2 MB 5.2 MB/s eta 0:00:01\r\u001b[K     |█████████████████████████▍      | 1.2 MB 5.2 MB/s eta 0:00:01\r\u001b[K     |█████████████████████████▋      | 1.2 MB 5.2 MB/s eta 0:00:01\r\u001b[K     |█████████████████████████▉      | 1.2 MB 5.2 MB/s eta 0:00:01\r\u001b[K     |██████████████████████████      | 1.2 MB 5.2 MB/s eta 0:00:01\r\u001b[K     |██████████████████████████▎     | 1.2 MB 5.2 MB/s eta 0:00:01\r\u001b[K     |██████████████████████████▌     | 1.2 MB 5.2 MB/s eta 0:00:01\r\u001b[K     |██████████████████████████▊     | 1.2 MB 5.2 MB/s eta 0:00:01\r\u001b[K     |███████████████████████████     | 1.3 MB 5.2 MB/s eta 0:00:01\r\u001b[K     |███████████████████████████▏    | 1.3 MB 5.2 MB/s eta 0:00:01\r\u001b[K     |███████████████████████████▍    | 1.3 MB 5.2 MB/s eta 0:00:01\r\u001b[K     |███████████████████████████▋    | 1.3 MB 5.2 MB/s eta 0:00:01\r\u001b[K     |███████████████████████████▉    | 1.3 MB 5.2 MB/s eta 0:00:01\r\u001b[K     |████████████████████████████    | 1.3 MB 5.2 MB/s eta 0:00:01\r\u001b[K     |████████████████████████████▎   | 1.3 MB 5.2 MB/s eta 0:00:01\r\u001b[K     |████████████████████████████▌   | 1.3 MB 5.2 MB/s eta 0:00:01\r\u001b[K     |████████████████████████████▊   | 1.3 MB 5.2 MB/s eta 0:00:01\r\u001b[K     |█████████████████████████████   | 1.4 MB 5.2 MB/s eta 0:00:01\r\u001b[K     |█████████████████████████████▏  | 1.4 MB 5.2 MB/s eta 0:00:01\r\u001b[K     |█████████████████████████████▍  | 1.4 MB 5.2 MB/s eta 0:00:01\r\u001b[K     |█████████████████████████████▋  | 1.4 MB 5.2 MB/s eta 0:00:01\r\u001b[K     |█████████████████████████████▉  | 1.4 MB 5.2 MB/s eta 0:00:01\r\u001b[K     |██████████████████████████████  | 1.4 MB 5.2 MB/s eta 0:00:01\r\u001b[K     |██████████████████████████████▎ | 1.4 MB 5.2 MB/s eta 0:00:01\r\u001b[K     |██████████████████████████████▌ | 1.4 MB 5.2 MB/s eta 0:00:01\r\u001b[K     |██████████████████████████████▊ | 1.4 MB 5.2 MB/s eta 0:00:01\r\u001b[K     |███████████████████████████████ | 1.4 MB 5.2 MB/s eta 0:00:01\r\u001b[K     |███████████████████████████████▏| 1.5 MB 5.2 MB/s eta 0:00:01\r\u001b[K     |███████████████████████████████▍| 1.5 MB 5.2 MB/s eta 0:00:01\r\u001b[K     |███████████████████████████████▋| 1.5 MB 5.2 MB/s eta 0:00:01\r\u001b[K     |███████████████████████████████▉| 1.5 MB 5.2 MB/s eta 0:00:01\r\u001b[K     |████████████████████████████████| 1.5 MB 5.2 MB/s \n",
            "\u001b[?25hRequirement already satisfied: intervaltree in /usr/local/lib/python3.7/dist-packages (from pm4py) (2.1.0)\n",
            "Requirement already satisfied: sympy in /usr/local/lib/python3.7/dist-packages (from pm4py) (1.7.1)\n",
            "Requirement already satisfied: matplotlib in /usr/local/lib/python3.7/dist-packages (from pm4py) (3.2.2)\n",
            "Requirement already satisfied: numpy>=1.19.5 in /usr/local/lib/python3.7/dist-packages (from pm4py) (1.19.5)\n",
            "Requirement already satisfied: scipy in /usr/local/lib/python3.7/dist-packages (from pm4py) (1.4.1)\n",
            "Requirement already satisfied: pytz in /usr/local/lib/python3.7/dist-packages (from pm4py) (2018.9)\n",
            "Requirement already satisfied: scikit-learn in /usr/local/lib/python3.7/dist-packages (from pm4py) (0.22.2.post1)\n",
            "Requirement already satisfied: cvxopt in /usr/local/lib/python3.7/dist-packages (from pm4py) (1.2.6)\n",
            "Collecting pyvis\n",
            "  Downloading pyvis-0.1.9-py3-none-any.whl (23 kB)\n",
            "Collecting pulp<=2.1\n",
            "  Downloading PuLP-2.1-py3-none-any.whl (40.6 MB)\n",
            "\u001b[K     |████████████████████████████████| 40.6 MB 70 kB/s \n",
            "\u001b[?25hCollecting deprecation\n",
            "  Downloading deprecation-2.1.0-py2.py3-none-any.whl (11 kB)\n",
            "Requirement already satisfied: lxml in /usr/local/lib/python3.7/dist-packages (from pm4py) (4.2.6)\n",
            "Collecting stringdist\n",
            "  Downloading StringDist-1.0.9.tar.gz (7.4 kB)\n",
            "Requirement already satisfied: networkx in /usr/local/lib/python3.7/dist-packages (from pm4py) (2.6.2)\n",
            "Collecting jsonpickle\n",
            "  Downloading jsonpickle-2.0.0-py2.py3-none-any.whl (37 kB)\n",
            "Requirement already satisfied: pandas>=1.1.5 in /usr/local/lib/python3.7/dist-packages (from pm4py) (1.1.5)\n",
            "Requirement already satisfied: graphviz in /usr/local/lib/python3.7/dist-packages (from pm4py) (0.10.1)\n",
            "Requirement already satisfied: tqdm in /usr/local/lib/python3.7/dist-packages (from pm4py) (4.62.0)\n",
            "Requirement already satisfied: pydotplus in /usr/local/lib/python3.7/dist-packages (from pm4py) (2.0.2)\n",
            "Requirement already satisfied: python-dateutil>=2.7.3 in /usr/local/lib/python3.7/dist-packages (from pandas>=1.1.5->pm4py) (2.8.2)\n",
            "Requirement already satisfied: pyparsing>=2.0.1 in /usr/local/lib/python3.7/dist-packages (from pulp<=2.1->pm4py) (2.4.7)\n",
            "Requirement already satisfied: six>=1.5 in /usr/local/lib/python3.7/dist-packages (from python-dateutil>=2.7.3->pandas>=1.1.5->pm4py) (1.15.0)\n",
            "Requirement already satisfied: packaging in /usr/local/lib/python3.7/dist-packages (from deprecation->pm4py) (21.0)\n",
            "Requirement already satisfied: sortedcontainers in /usr/local/lib/python3.7/dist-packages (from intervaltree->pm4py) (2.4.0)\n",
            "Requirement already satisfied: importlib-metadata in /usr/local/lib/python3.7/dist-packages (from jsonpickle->pm4py) (4.6.4)\n",
            "Requirement already satisfied: typing-extensions>=3.6.4 in /usr/local/lib/python3.7/dist-packages (from importlib-metadata->jsonpickle->pm4py) (3.7.4.3)\n",
            "Requirement already satisfied: zipp>=0.5 in /usr/local/lib/python3.7/dist-packages (from importlib-metadata->jsonpickle->pm4py) (3.5.0)\n",
            "Requirement already satisfied: cycler>=0.10 in /usr/local/lib/python3.7/dist-packages (from matplotlib->pm4py) (0.10.0)\n",
            "Requirement already satisfied: kiwisolver>=1.0.1 in /usr/local/lib/python3.7/dist-packages (from matplotlib->pm4py) (1.3.1)\n",
            "Requirement already satisfied: jinja2>=2.9.6 in /usr/local/lib/python3.7/dist-packages (from pyvis->pm4py) (2.11.3)\n",
            "Requirement already satisfied: ipython>=5.3.0 in /usr/local/lib/python3.7/dist-packages (from pyvis->pm4py) (5.5.0)\n",
            "Requirement already satisfied: pygments in /usr/local/lib/python3.7/dist-packages (from ipython>=5.3.0->pyvis->pm4py) (2.6.1)\n",
            "Requirement already satisfied: pexpect in /usr/local/lib/python3.7/dist-packages (from ipython>=5.3.0->pyvis->pm4py) (4.8.0)\n",
            "Requirement already satisfied: setuptools>=18.5 in /usr/local/lib/python3.7/dist-packages (from ipython>=5.3.0->pyvis->pm4py) (57.4.0)\n",
            "Requirement already satisfied: prompt-toolkit<2.0.0,>=1.0.4 in /usr/local/lib/python3.7/dist-packages (from ipython>=5.3.0->pyvis->pm4py) (1.0.18)\n",
            "Requirement already satisfied: pickleshare in /usr/local/lib/python3.7/dist-packages (from ipython>=5.3.0->pyvis->pm4py) (0.7.5)\n",
            "Requirement already satisfied: simplegeneric>0.8 in /usr/local/lib/python3.7/dist-packages (from ipython>=5.3.0->pyvis->pm4py) (0.8.1)\n",
            "Requirement already satisfied: traitlets>=4.2 in /usr/local/lib/python3.7/dist-packages (from ipython>=5.3.0->pyvis->pm4py) (5.0.5)\n",
            "Requirement already satisfied: decorator in /usr/local/lib/python3.7/dist-packages (from ipython>=5.3.0->pyvis->pm4py) (4.4.2)\n",
            "Requirement already satisfied: MarkupSafe>=0.23 in /usr/local/lib/python3.7/dist-packages (from jinja2>=2.9.6->pyvis->pm4py) (2.0.1)\n",
            "Requirement already satisfied: wcwidth in /usr/local/lib/python3.7/dist-packages (from prompt-toolkit<2.0.0,>=1.0.4->ipython>=5.3.0->pyvis->pm4py) (0.2.5)\n",
            "Requirement already satisfied: ipython-genutils in /usr/local/lib/python3.7/dist-packages (from traitlets>=4.2->ipython>=5.3.0->pyvis->pm4py) (0.2.0)\n",
            "Requirement already satisfied: ptyprocess>=0.5 in /usr/local/lib/python3.7/dist-packages (from pexpect->ipython>=5.3.0->pyvis->pm4py) (0.7.0)\n",
            "Requirement already satisfied: joblib>=0.11 in /usr/local/lib/python3.7/dist-packages (from scikit-learn->pm4py) (1.0.1)\n",
            "Requirement already satisfied: mpmath>=0.19 in /usr/local/lib/python3.7/dist-packages (from sympy->pm4py) (1.2.1)\n",
            "Building wheels for collected packages: stringdist\n",
            "  Building wheel for stringdist (setup.py) ... \u001b[?25l\u001b[?25hdone\n",
            "  Created wheel for stringdist: filename=StringDist-1.0.9-cp37-cp37m-linux_x86_64.whl size=23594 sha256=ede8d132abf405a60dbbf9367204e86fcfb0c2171e9285756da2d39ae1c1a905\n",
            "  Stored in directory: /root/.cache/pip/wheels/d7/9c/d4/63bc3d8931de0980b9e4a724dea290bb40b8b1b2bd6227c8da\n",
            "Successfully built stringdist\n",
            "Installing collected packages: jsonpickle, stringdist, pyvis, pulp, deprecation, pm4py\n",
            "Successfully installed deprecation-2.1.0 jsonpickle-2.0.0 pm4py-2.2.12 pulp-2.1 pyvis-0.1.9 stringdist-1.0.9\n"
          ],
          "name": "stdout"
        }
      ]
    },
    {
      "cell_type": "code",
      "metadata": {
        "id": "fRLYAKvrj69p"
      },
      "source": [
        "import pandas as pd\n",
        "import numpy as np\n",
        "\n",
        "from pm4py.objects.log.importer.xes import importer as xes_importer\n",
        "from pm4py.algo.discovery.dfg import algorithm as dfg_fac\n",
        "from pm4py.objects.conversion.log import converter as log_converter\n",
        "from pm4py.objects.log.util import dataframe_utils\n",
        "\n",
        "from tqdm import tqdm"
      ],
      "execution_count": 2,
      "outputs": []
    },
    {
      "cell_type": "code",
      "metadata": {
        "colab": {
          "base_uri": "https://localhost:8080/"
        },
        "id": "RDIAEScDk7F9",
        "outputId": "ed31f570-8ac8-4f68-c4de-9477f37041df"
      },
      "source": [
        "!wget http://icpmconference.org/2020/wp-content/uploads/sites/4/2020/03/DomesticDeclarations.xes_.gz"
      ],
      "execution_count": 3,
      "outputs": [
        {
          "output_type": "stream",
          "text": [
            "--2021-08-25 18:58:09--  http://icpmconference.org/2020/wp-content/uploads/sites/4/2020/03/DomesticDeclarations.xes_.gz\n",
            "Resolving icpmconference.org (icpmconference.org)... 37.128.148.44\n",
            "Connecting to icpmconference.org (icpmconference.org)|37.128.148.44|:80... connected.\n",
            "HTTP request sent, awaiting response... 301 Moved Permanently\n",
            "Location: https://icpmconference.org/2020/wp-content/uploads/sites/4/2020/03/DomesticDeclarations.xes_.gz [following]\n",
            "--2021-08-25 18:58:10--  https://icpmconference.org/2020/wp-content/uploads/sites/4/2020/03/DomesticDeclarations.xes_.gz\n",
            "Connecting to icpmconference.org (icpmconference.org)|37.128.148.44|:443... connected.\n",
            "HTTP request sent, awaiting response... 200 OK\n",
            "Length: 933930 (912K) [application/x-gzip]\n",
            "Saving to: ‘DomesticDeclarations.xes_.gz’\n",
            "\n",
            "DomesticDeclaration 100%[===================>] 912.04K  1.79MB/s    in 0.5s    \n",
            "\n",
            "2021-08-25 18:58:11 (1.79 MB/s) - ‘DomesticDeclarations.xes_.gz’ saved [933930/933930]\n",
            "\n"
          ],
          "name": "stdout"
        }
      ]
    },
    {
      "cell_type": "code",
      "metadata": {
        "id": "qWVY8ruKmX5-"
      },
      "source": [
        "!gunzip /content/DomesticDeclarations.xes_.gz"
      ],
      "execution_count": 4,
      "outputs": []
    },
    {
      "cell_type": "code",
      "metadata": {
        "id": "auQAkT1mnPnF"
      },
      "source": [
        "!mv /content/DomesticDeclarations.xes_ /content/DomesticDeclarations.xes"
      ],
      "execution_count": 5,
      "outputs": []
    },
    {
      "cell_type": "code",
      "metadata": {
        "id": "JyYLP7HJkSF1"
      },
      "source": [
        "class Transformer:\n",
        "  def __init__(self, path_to_file):\n",
        "    self.path = path_to_file\n",
        "    self.log = None\n",
        "\n",
        "  def get_from_xes(self):\n",
        "    self.log = xes_importer.apply(self.path)\n",
        "    self.dataframe = log_converter.apply(self.log, variant=log_converter.Variants.TO_DATA_FRAME)\n",
        "    return self.dataframe\n",
        "\n",
        "  def get_from_csv(self):\n",
        "    self.dataframe = pd.read_csv(self.path)\n",
        "    self.dataframe = dataframe_utils.convert_timestamp_columns_in_df(self.dataframe)\n",
        "    self.log = log_converter.apply(self.dataframe)\n",
        "    return self.dataframe\n",
        "\n",
        "  def get_PD_from_log(self):\n",
        "    df = pd.read_fwf(self.path)\n",
        "    cols = df.columns.tolist()\n",
        "    cols = cols[-1:] + cols[:-1]\n",
        "    self.dataframe = df[cols]\n",
        "    self.log = log_converter.apply(self.log, variant=log_converter.Variants.TO_EVENT_LOG)\n",
        "    return self.dataframe"
      ],
      "execution_count": 6,
      "outputs": []
    },
    {
      "cell_type": "code",
      "metadata": {
        "colab": {
          "base_uri": "https://localhost:8080/",
          "height": 66,
          "referenced_widgets": [
            "3ef812ec4cfb40308572411f1d04bda9",
            "d3ea1f98fd574b2886eb9fe58a08b6a9",
            "7001b952b08145eda6a5efb25465d4af",
            "50e87b41384e47a0a20bd57df4715fbe",
            "e5b10275c4254600b123a233d8b92d92",
            "9940b3e7c2db4c2382c4046c275a63f2",
            "8d359e93ccf6441f97e879b5aabdb4c2",
            "d00462684fd84fbeaf8315aadbac40a0",
            "d0106b4ab8ed43ae8d39764bb1bc0b4f",
            "0741c93430434c9b8c869e409e542196",
            "10764bbd388f4d1fb7d1297c1e77c52f"
          ]
        },
        "id": "Kl8HfoVMkTjT",
        "outputId": "128873d0-9cd6-4d48-c101-b786a2ea4e55"
      },
      "source": [
        "t = Transformer('/content/DomesticDeclarations.xes')\n",
        "t.get_from_xes()  \n",
        "cases = np.unique(t.dataframe['case:concept:name'])\n",
        "avarage_duraion = []\n",
        "for case in tqdm(cases):\n",
        "    tmp_df = t.dataframe[t.dataframe['case:concept:name']==case]\n",
        "    avarage_duraion.append((case, max(tmp_df['time:timestamp'])-min(tmp_df['time:timestamp'])))\n",
        "avarage_duraion = sorted(avarage_duraion, key=lambda tup: tup[1], reverse=True)\n",
        "bottle_cases = avarage_duraion[:round(len(avarage_duraion)/10)]"
      ],
      "execution_count": 7,
      "outputs": [
        {
          "output_type": "display_data",
          "data": {
            "application/vnd.jupyter.widget-view+json": {
              "model_id": "3ef812ec4cfb40308572411f1d04bda9",
              "version_minor": 0,
              "version_major": 2
            },
            "text/plain": [
              "parsing log, completed traces ::   0%|          | 0/10500 [00:00<?, ?it/s]"
            ]
          },
          "metadata": {}
        },
        {
          "output_type": "stream",
          "text": [
            "100%|██████████| 10500/10500 [00:43<00:00, 242.47it/s]\n"
          ],
          "name": "stderr"
        }
      ]
    },
    {
      "cell_type": "code",
      "metadata": {
        "id": "jkmxmPBHkWnO"
      },
      "source": [
        "cases = list(map(lambda x: x[0], bottle_cases))\n",
        "tmp_df = t.dataframe[t.dataframe['case:concept:name'].isin(cases)]\n",
        "tmp_df.index = [i for i in range(tmp_df.shape[0])]"
      ],
      "execution_count": 8,
      "outputs": []
    },
    {
      "cell_type": "code",
      "metadata": {
        "id": "E3zUr1ZfkXUn"
      },
      "source": [
        "duration_dict = dict()\n",
        "for i in range(tmp_df.shape[0]-1):\n",
        "    edge = (tmp_df['concept:name'][i], tmp_df['concept:name'][i+1])\n",
        "    duration = tmp_df['time:timestamp'][i+1] - tmp_df['time:timestamp'][i]\n",
        "    if edge not in duration_dict:\n",
        "        duration_dict[edge] = [duration]\n",
        "    else:\n",
        "        duration_dict[edge].append(duration)\n",
        "for key in duration_dict.keys():\n",
        "    duration_dict[key] = np.mean(duration_dict[key])"
      ],
      "execution_count": 9,
      "outputs": []
    },
    {
      "cell_type": "code",
      "metadata": {
        "id": "SNFN-N0wkZa2",
        "colab": {
          "base_uri": "https://localhost:8080/"
        },
        "outputId": "d6d07308-93ac-4b54-d12d-75462bc862fb"
      },
      "source": [
        "edge_tuple = []\n",
        "for key in duration_dict.keys():\n",
        "    edge_tuple.append((key, duration_dict[key]))\n",
        "edge_tuple = sorted(edge_tuple, key=lambda tup: tup[1], reverse=True)\n",
        "edge_tuple[:round(len(edge_tuple)/10)]"
      ],
      "execution_count": 10,
      "outputs": [
        {
          "output_type": "execute_result",
          "data": {
            "text/plain": [
              "[(('Declaration FINAL_APPROVED by SUPERVISOR', 'Payment Handled'),\n",
              "  datetime.timedelta(days=81, seconds=50604, microseconds=571429)),\n",
              " (('Declaration FINAL_APPROVED by SUPERVISOR',\n",
              "   'Declaration REJECTED by MISSING'),\n",
              "  datetime.timedelta(days=28, seconds=59776, microseconds=35714)),\n",
              " (('Request Payment', 'Declaration REJECTED by MISSING'),\n",
              "  datetime.timedelta(days=28, seconds=30432))]"
            ]
          },
          "metadata": {},
          "execution_count": 10
        }
      ]
    }
  ]
}